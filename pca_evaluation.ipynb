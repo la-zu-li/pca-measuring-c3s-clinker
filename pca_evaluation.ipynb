{
 "cells": [
  {
   "cell_type": "code",
   "execution_count": null,
   "id": "aa875cc0-385a-45cb-a504-70e25ac47398",
   "metadata": {
    "tags": []
   },
   "outputs": [],
   "source": [
    "import os\n",
    "import json\n",
    "import cv2 as cv\n",
    "import pandas as \n",
    "import plotly.express as px"
   ]
  },
  {
   "cell_type": "code",
   "execution_count": null,
   "id": "804474d1-e369-4083-8291-e5bd95ab0f2b",
   "metadata": {
    "tags": []
   },
   "outputs": [],
   "source": [
    "!unzip -o maskrcnn/output/test/dt_masks.zip"
   ]
  },
  {
   "cell_type": "code",
   "execution_count": null,
   "id": "13ceae22-9ea2-4644-8e0a-774646410b0c",
   "metadata": {
    "tags": []
   },
   "outputs": [],
   "source": [
    "%run scripts/all_measures_to_json.py\n",
    "%run scripts/merge_anns_and_measures.py\n",
    "%run scripts/evaluate_network_performance.py\n",
    "%run scripts/evaluate_measuring_performance.py"
   ]
  },
  {
   "cell_type": "code",
   "execution_count": null,
   "id": "15b4a27c-49c7-47ac-96e3-7d2b42e8e023",
   "metadata": {
    "tags": []
   },
   "outputs": [],
   "source": [
    "df = pd.read_csv(\"data/eval_measuring.csv\")\n",
    "df_summary = pd.read_csv(\"data/data_summary.csv\")"
   ]
  },
  {
   "cell_type": "code",
   "execution_count": null,
   "id": "b158c070-0ed9-41d3-b560-e256d8f86ca3",
   "metadata": {
    "tags": []
   },
   "outputs": [],
   "source": [
    "df_ = df[df[\"iou\"] > 0]\n",
    "\n",
    "algorithms = [\"pca\", \"lr\", \"centroid\", \"brute-force\"]\n",
    "\n",
    "errors = pd.DataFrame([], columns=algorithms)\n",
    "times = pd.DataFrame([], columns=algorithms)\n",
    "\n",
    "for alg in algorithms:\n",
    "    errors[alg] = abs(df_[\"ground-truth_measure\"] - df_[f\"{alg}_measure\"]) / df_[\"ground-truth_measure\"]\n",
    "    times[alg] = df_[f\"{alg}_time\"]\n",
    "\n",
    "# px.box(errors).show()\n",
    "# px.box(times.drop(\"brute-force\", axis=1)*1000).show()\n",
    "# px.box(df_, x=\"iou\")\n",
    "# px.box(pd.concat((1-df_.iou, errors), axis=1)).show()\n",
    "# px.scatter(x=df_[\"area\"], y=errors[\"centroid\"]).show()\n",
    "# px.box(df_, x=\"area\").show()\n",
    "\n",
    "pd.concat((1-df_.iou, errors), axis=1).corr()"
   ]
  }
 ],
 "metadata": {
  "kernelspec": {
   "display_name": "cv",
   "language": "python",
   "name": "cv"
  },
  "language_info": {
   "codemirror_mode": {
    "name": "ipython",
    "version": 3
   },
   "file_extension": ".py",
   "mimetype": "text/x-python",
   "name": "python",
   "nbconvert_exporter": "python",
   "pygments_lexer": "ipython3",
   "version": "3.10.12"
  }
 },
 "nbformat": 4,
 "nbformat_minor": 5
}
