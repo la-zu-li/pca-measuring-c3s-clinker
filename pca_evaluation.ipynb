{
 "cells": [
  {
   "cell_type": "code",
   "execution_count": 58,
   "id": "aa875cc0-385a-45cb-a504-70e25ac47398",
   "metadata": {
    "tags": []
   },
   "outputs": [],
   "source": [
    "import os\n",
    "import json\n",
    "from time import time\n",
    "import cv2 as cv\n",
    "import numpy as np\n",
    "import pickle as pkl\n",
    "from glob import glob\n",
    "import matplotlib.pyplot as plt\n",
    "\n",
    "from utils import *"
   ]
  },
  {
   "cell_type": "code",
   "execution_count": 60,
   "id": "13ceae22-9ea2-4644-8e0a-774646410b0c",
   "metadata": {
    "tags": []
   },
   "outputs": [],
   "source": [
    "%run scripts/all_measures_to_json.py\n",
    "%run scripts/merge_anns_and_measures.py"
   ]
  },
  {
   "cell_type": "code",
   "execution_count": 61,
   "id": "348e79e8-db10-462e-8ab1-c7b452bb0119",
   "metadata": {},
   "outputs": [],
   "source": [
    "PATH = \"data\"\n",
    "\n",
    "with open(os.path.join(PATH, \"anns_w_measure.json\"), \"r\") as f:\n",
    "    anns = json.load(f)\n",
    "    gt_anns_measures = anns[\"annotations\"]\n",
    "    imgs_data = anns[\"images\"]"
   ]
  },
  {
   "cell_type": "code",
   "execution_count": 62,
   "id": "d05b7840-3192-4262-82c4-823b0b0daa56",
   "metadata": {},
   "outputs": [],
   "source": [
    "PKL_PATH = \"/home/lazuli/Desktop/Projetos/PKLS/C3S-Clinker-dataset/Original\"\n",
    "with open(os.path.join(PKL_PATH, \"dt_masks.pkl\"), \"rb\") as f:\n",
    "    all_dt_masks = pkl.load(f)\n",
    "\n",
    "# preprocess masks dict\n",
    "\n",
    "filename_and_id = [[x[\"file_name\"], x[\"id\"]] for x in imgs_data]\n",
    "filename_to_id = dict(filename_and_id)\n",
    "id_to_filename = dict([x[::-1] for x in filename_and_id])\n",
    "\n",
    "img_filepaths, masks = zip(*all_dt_masks.items())\n",
    "img_filenames = [os.path.basename(x) for x in img_filepaths]\n",
    "img_ids = [filename_to_id[f] for f in img_filenames]\n",
    "\n",
    "all_dt_masks = dict(zip(img_ids, masks))"
   ]
  },
  {
   "cell_type": "code",
   "execution_count": 63,
   "id": "966448fa-d290-4434-883d-204043335ae7",
   "metadata": {
    "tags": []
   },
   "outputs": [],
   "source": [
    "IOU_THRESH = 0.5 # threshold used to validate if it's a hit or not\n",
    "\n",
    "all_eval_data = []\n",
    "total_fps = 0\n",
    "total_fns = 0\n",
    "for img_id, anns_measures in list(gt_anns_measures.items()):\n",
    "    img_id = int(img_id)\n",
    "    img_data = imgs_data[img_id]\n",
    "    height, width = img_data[\"height\"], img_data[\"width\"]\n",
    "    \n",
    "    ids = [x[\"id\"] for x in anns_measures]\n",
    "    gt_poly = [x[\"segmentation\"] for x in anns_measures]\n",
    "    gt_measures = [x[\"measure\"] for x in anns_measures]\n",
    "    gt_masks = [poly_to_mask(x, (height, width), True) for x in gt_poly]\n",
    "    dt_masks = all_dt_masks[img_id]\n",
    "\n",
    "    ious_mx = all_iou_combinations(gt_masks, dt_masks)\n",
    "    ious_mx_hit = ious_mx >= IOU_THRESH\n",
    "    \n",
    "    hit_sum_gt = ious_mx_hit.sum(axis=1)\n",
    "    hit_sum_dt = ious_mx_hit.sum(axis=0)\n",
    "    \n",
    "    fns = np.where(hit_sum_gt == 0)\n",
    "    tps = np.where(hit_sum_gt > 0)\n",
    "    \n",
    "    # increase total number of false positives and negatives\n",
    "    total_fps += np.count_nonzero(hit_sum_dt == 0)\n",
    "    total_fps += np.count_nonzero(hit_sum_gt > 1)\n",
    "    total_fns += len(fns)\n",
    "\n",
    "    gt_ious = ious_mx.max(axis=1)\n",
    "    gt_ious[fns] = -1\n",
    "    corresp_dt_index = ious_mx.argmax(axis=1)\n",
    "    corresp_dt_index[fns] = -1\n",
    "    \n",
    "    gt_areas = [x.sum() for x in gt_masks]\n",
    "    dt_areas = [dt_masks[i].sum() if i>=0 else -1 for i in corresp_dt_index]\n",
    "    \n",
    "    # append data\n",
    "    filename = id_to_filename[img_id]\n",
    "    img_ids = [img_id for _ in anns_measures]\n",
    "    filenames = [filename for _ in anns_measures]\n",
    "    data = list(zip(filenames, img_ids, ids, gt_areas, gt_measures, corresp_dt_index, dt_areas, gt_ious))\n",
    "    all_eval_data.extend(data)\n",
    "    \n",
    "df = pd.DataFrame(all_eval_data, columns=[\n",
    "    \"filename\", \"image_id\", \"id\", \"area\", \"ground-truth_measure\", \n",
    "    \"detected_mask_id\", \"detected_mask_area\", \"iou\"])"
   ]
  },
  {
   "cell_type": "code",
   "execution_count": 65,
   "id": "c87fd52b-539f-467c-ba2d-6f86445339d6",
   "metadata": {
    "tags": []
   },
   "outputs": [
    {
     "ename": "ValueError",
     "evalue": "`distance` must be greater or equal to 1",
     "output_type": "error",
     "traceback": [
      "\u001b[0;31m---------------------------------------------------------------------------\u001b[0m",
      "\u001b[0;31mValueError\u001b[0m                                Traceback (most recent call last)",
      "Cell \u001b[0;32mIn[65], line 34\u001b[0m\n\u001b[1;32m     32\u001b[0m \u001b[38;5;28;01mfor\u001b[39;00m name, method, kwargs \u001b[38;5;129;01min\u001b[39;00m \u001b[38;5;28mzip\u001b[39m(name_methods, methods, kwargs_methods):        \n\u001b[1;32m     33\u001b[0m     start \u001b[38;5;241m=\u001b[39m time()\n\u001b[0;32m---> 34\u001b[0m     _,_,length \u001b[38;5;241m=\u001b[39m \u001b[43mmethod\u001b[49m\u001b[43m(\u001b[49m\u001b[43mpoints\u001b[49m\u001b[43m,\u001b[49m\u001b[43m \u001b[49m\u001b[38;5;241;43m*\u001b[39;49m\u001b[38;5;241;43m*\u001b[39;49m\u001b[43mkwargs\u001b[49m\u001b[43m)\u001b[49m\n\u001b[1;32m     35\u001b[0m     end \u001b[38;5;241m=\u001b[39m time()\n\u001b[1;32m     36\u001b[0m     df\u001b[38;5;241m.\u001b[39mat[i,\u001b[38;5;124mf\u001b[39m\u001b[38;5;124m\"\u001b[39m\u001b[38;5;132;01m{\u001b[39;00mname\u001b[38;5;132;01m}\u001b[39;00m\u001b[38;5;124m_time\u001b[39m\u001b[38;5;124m\"\u001b[39m] \u001b[38;5;241m=\u001b[39m end\u001b[38;5;241m-\u001b[39mstart\n",
      "File \u001b[0;32m~/Dropbox/pesquisas/PCA medição pós-rede/measure_methods.py:60\u001b[0m, in \u001b[0;36mlongest_diagonal_centroid\u001b[0;34m(points, starting_frac, step, use_find_peaks)\u001b[0m\n\u001b[1;32m     58\u001b[0m min_distance_frac \u001b[38;5;241m+\u001b[39m\u001b[38;5;241m=\u001b[39m step\n\u001b[1;32m     59\u001b[0m \u001b[38;5;28;01mif\u001b[39;00m find_peaks:\n\u001b[0;32m---> 60\u001b[0m     local_max_indexes,_ \u001b[38;5;241m=\u001b[39m \u001b[43mfind_peaks\u001b[49m\u001b[43m(\u001b[49m\u001b[43mdistances\u001b[49m\u001b[43m,\u001b[49m\u001b[43m \u001b[49m\u001b[43mdistance\u001b[49m\u001b[38;5;241;43m=\u001b[39;49m\u001b[43mn_points\u001b[49m\u001b[38;5;241;43m/\u001b[39;49m\u001b[38;5;241;43m/\u001b[39;49m\u001b[43mmin_distance_frac\u001b[49m\u001b[43m)\u001b[49m\n\u001b[1;32m     61\u001b[0m \u001b[38;5;28;01melse\u001b[39;00m:\n\u001b[1;32m     62\u001b[0m     local_max_indexes \u001b[38;5;241m=\u001b[39m argrelmax(distances, mode\u001b[38;5;241m=\u001b[39m\u001b[38;5;124m'\u001b[39m\u001b[38;5;124mwrap\u001b[39m\u001b[38;5;124m'\u001b[39m, order\u001b[38;5;241m=\u001b[39m\u001b[38;5;28mint\u001b[39m(n_points\u001b[38;5;241m/\u001b[39m\u001b[38;5;241m/\u001b[39mmin_distance_frac))[\u001b[38;5;241m0\u001b[39m]\n",
      "File \u001b[0;32m~/cv/lib/python3.10/site-packages/scipy/signal/_peak_finding.py:934\u001b[0m, in \u001b[0;36mfind_peaks\u001b[0;34m(x, height, threshold, distance, prominence, width, wlen, rel_height, plateau_size)\u001b[0m\n\u001b[1;32m    932\u001b[0m x \u001b[38;5;241m=\u001b[39m _arg_x_as_expected(x)\n\u001b[1;32m    933\u001b[0m \u001b[38;5;28;01mif\u001b[39;00m distance \u001b[38;5;129;01mis\u001b[39;00m \u001b[38;5;129;01mnot\u001b[39;00m \u001b[38;5;28;01mNone\u001b[39;00m \u001b[38;5;129;01mand\u001b[39;00m distance \u001b[38;5;241m<\u001b[39m \u001b[38;5;241m1\u001b[39m:\n\u001b[0;32m--> 934\u001b[0m     \u001b[38;5;28;01mraise\u001b[39;00m \u001b[38;5;167;01mValueError\u001b[39;00m(\u001b[38;5;124m'\u001b[39m\u001b[38;5;124m`distance` must be greater or equal to 1\u001b[39m\u001b[38;5;124m'\u001b[39m)\n\u001b[1;32m    936\u001b[0m peaks, left_edges, right_edges \u001b[38;5;241m=\u001b[39m _local_maxima_1d(x)\n\u001b[1;32m    937\u001b[0m properties \u001b[38;5;241m=\u001b[39m {}\n",
      "\u001b[0;31mValueError\u001b[0m: `distance` must be greater or equal to 1"
     ]
    }
   ],
   "source": [
    "# measure and collect data\n",
    "from measure_methods import *\n",
    "\n",
    "name_methods = [\"pca\", \"centroid\", \"lr\", \"brute-force\"]\n",
    "methods = [longest_diagonal_pca, longest_diagonal_centroid,\n",
    "    longest_diagonal_lr, farthest_pair_of_points_brute_force]\n",
    "kwargs_methods = [{}, {\"use_find_peaks\": True}, {}, {}]\n",
    "\n",
    "# creating and initializing new columns\n",
    "df[\"find-contour_time\"] = -1.0\n",
    "for method in name_methods:\n",
    "    df[f\"{method}_measure\"] = -1.0\n",
    "    df[f\"{method}_time\"] = -1.0\n",
    "    \n",
    "for i,row in df.iterrows():\n",
    "    img_id = row[\"image_id\"]\n",
    "    dt_mask_id = row[\"detected_mask_id\"]\n",
    "    \n",
    "    if dt_mask_id < 0: continue\n",
    "    \n",
    "    dt_mask = all_dt_masks[img_id][dt_mask_id]\n",
    "    \n",
    "    start = time()\n",
    "    contours,_ = cv.findContours(dt_mask.astype(np.uint8), cv.RETR_EXTERNAL, cv.CHAIN_APPROX_NONE)\n",
    "    contour = max(contours, key=lambda x: x.shape[1])\n",
    "    points = contour.squeeze()\n",
    "    end = time()\n",
    "    df.at[i,\"find-contour_time\"] = end-start\n",
    "    \n",
    "    if len(points.shape) != 2: continue\n",
    "    \n",
    "    for name, method, kwargs in zip(name_methods, methods, kwargs_methods):        \n",
    "        start = time()\n",
    "        _,_,length = method(points, **kwargs)\n",
    "        end = time()\n",
    "        df.at[i,f\"{name}_time\"] = end-start\n",
    "        df.at[i,f\"{name}_measure\"] = length"
   ]
  },
  {
   "cell_type": "code",
   "execution_count": null,
   "id": "02630ba0-887b-44d6-8a69-b92d45f50d2e",
   "metadata": {
    "tags": []
   },
   "outputs": [],
   "source": [
    "df.iloc[0:10]"
   ]
  },
  {
   "cell_type": "code",
   "execution_count": null,
   "id": "d6ab3777-8daa-46c0-9918-e56f85c6bf74",
   "metadata": {
    "tags": []
   },
   "outputs": [],
   "source": [
    "df.to_csv(os.path.join(PATH, \"eval_measuring.csv\"))\n",
    "with open(os.path.join(PATH, \"eval_data.csv\"), \"w\") as f:\n",
    "    json.dump({\"total_FP\": total_fps, \"total_FN\":total_fns}, f)"
   ]
  }
 ],
 "metadata": {
  "kernelspec": {
   "display_name": "cv",
   "language": "python",
   "name": "cv"
  },
  "language_info": {
   "codemirror_mode": {
    "name": "ipython",
    "version": 3
   },
   "file_extension": ".py",
   "mimetype": "text/x-python",
   "name": "python",
   "nbconvert_exporter": "python",
   "pygments_lexer": "ipython3",
   "version": "3.10.12"
  }
 },
 "nbformat": 4,
 "nbformat_minor": 5
}
