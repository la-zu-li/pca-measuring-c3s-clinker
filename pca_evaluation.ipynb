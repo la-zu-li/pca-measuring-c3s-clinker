{
 "cells": [
  {
   "cell_type": "code",
   "execution_count": 1,
   "id": "aa875cc0-385a-45cb-a504-70e25ac47398",
   "metadata": {
    "tags": []
   },
   "outputs": [],
   "source": [
    "import os\n",
    "import json\n",
    "from time import time\n",
    "import cv2 as cv\n",
    "import numpy as np\n",
    "import pickle as pkl\n",
    "from glob import glob\n",
    "import matplotlib.pyplot as plt\n",
    "\n",
    "from utils import *"
   ]
  },
  {
   "cell_type": "code",
   "execution_count": 34,
   "id": "804474d1-e369-4083-8291-e5bd95ab0f2b",
   "metadata": {
    "tags": []
   },
   "outputs": [
    {
     "name": "stdout",
     "output_type": "stream",
     "text": [
      "Archive:  maskrcnn/output/test/dt_masks.zip\n",
      "  inflating: dt_masks.pkl            \n"
     ]
    }
   ],
   "source": [
    "!unzip -o maskrcnn/output/test/dt_masks.zip"
   ]
  },
  {
   "cell_type": "code",
   "execution_count": 5,
   "id": "13ceae22-9ea2-4644-8e0a-774646410b0c",
   "metadata": {
    "tags": []
   },
   "outputs": [],
   "source": [
    "%run scripts/all_measures_to_json.py\n",
    "%run scripts/merge_anns_and_measures.py\n",
    "%run scripts/evaluate_network_performance.py\n",
    "%run scripts/evaluate_measuring_performance.py"
   ]
  },
  {
   "cell_type": "code",
   "execution_count": 20,
   "id": "29f72d09-d76a-416b-9087-f0d1b1b27459",
   "metadata": {
    "tags": []
   },
   "outputs": [],
   "source": []
  }
 ],
 "metadata": {
  "kernelspec": {
   "display_name": "cv",
   "language": "python",
   "name": "cv"
  },
  "language_info": {
   "codemirror_mode": {
    "name": "ipython",
    "version": 3
   },
   "file_extension": ".py",
   "mimetype": "text/x-python",
   "name": "python",
   "nbconvert_exporter": "python",
   "pygments_lexer": "ipython3",
   "version": "3.10.12"
  }
 },
 "nbformat": 4,
 "nbformat_minor": 5
}
