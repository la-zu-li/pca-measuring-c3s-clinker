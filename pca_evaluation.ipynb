{
 "cells": [
  {
   "cell_type": "code",
   "execution_count": null,
   "id": "a4c0ecaa-194c-4478-9312-cc132387a7bc",
   "metadata": {
    "tags": []
   },
   "outputs": [],
   "source": [
    "!pip install -r requirements.txt"
   ]
  },
  {
   "cell_type": "code",
   "execution_count": null,
   "id": "aa875cc0-385a-45cb-a504-70e25ac47398",
   "metadata": {
    "tags": []
   },
   "outputs": [],
   "source": [
    "import os\n",
    "import json\n",
    "import cv2 as cv\n",
    "import pandas as pd\n",
    "import plotly.express as px\n",
    "from sklearn.feature_selection import mutual_info_regression"
   ]
  },
  {
   "cell_type": "code",
   "execution_count": null,
   "id": "804474d1-e369-4083-8291-e5bd95ab0f2b",
   "metadata": {
    "tags": []
   },
   "outputs": [],
   "source": [
    "!unzip -o maskrcnn/output/test/dt_masks.zip"
   ]
  },
  {
   "cell_type": "code",
   "execution_count": 5,
   "id": "13ceae22-9ea2-4644-8e0a-774646410b0c",
   "metadata": {
    "tags": []
   },
   "outputs": [],
   "source": [
    "%run scripts/all_measures_to_json.py\n",
    "%run scripts/merge_anns_and_measures.py\n",
    "%run scripts/evaluate_network_performance.py\n",
    "%run scripts/evaluate_measuring_performance.py\n",
    "%run scripts/compute_geometrical_features.py"
   ]
  },
  {
   "cell_type": "code",
   "execution_count": null,
   "id": "15b4a27c-49c7-47ac-96e3-7d2b42e8e023",
   "metadata": {
    "tags": []
   },
   "outputs": [],
   "source": [
    "df = pd.read_csv(\"data/geometric_features.csv\")\n",
    "df_ = df[df[\"detected_mask_id\"] >= 0]"
   ]
  },
  {
   "cell_type": "markdown",
   "id": "f69ef503-a111-4148-8342-12ac4b5bb60c",
   "metadata": {
    "tags": []
   },
   "source": [
    "## Mask R-CNN evaluation"
   ]
  },
  {
   "cell_type": "code",
   "execution_count": null,
   "id": "38235ebb-230c-48c7-b649-e6de6b85ce3b",
   "metadata": {
    "tags": []
   },
   "outputs": [],
   "source": [
    "total_loss = pd.read_csv(\"maskrcnn/eval metrics/total_loss.csv\")\n",
    "\n",
    "total_loss.drop(\"Wall time\", axis=1, inplace=True)\n",
    "total_loss.columns = [\"Iteration\", \"Loss\"]\n",
    "\n",
    "fig = px.line(total_loss, x=\"Iteration\", y=\"Loss\", height=300, width=500)\n",
    "fig.update_layout(font_size=15)\n",
    "fig.write_image(\"data/total_loss.png\")\n",
    "fig.show()"
   ]
  },
  {
   "cell_type": "code",
   "execution_count": null,
   "id": "78c9ac77-3821-43ff-959e-2c236bbb6f54",
   "metadata": {
    "tags": []
   },
   "outputs": [],
   "source": [
    "with open(\"maskrcnn/eval metrics/time_seconds.json\") as f:\n",
    "    other_data = json.load(f)\n",
    "\n",
    "pd.DataFrame([other_data.values()], columns=other_data.keys())"
   ]
  },
  {
   "cell_type": "code",
   "execution_count": null,
   "id": "bc47b4a1-f918-490f-862e-845fe45bfa8d",
   "metadata": {
    "tags": []
   },
   "outputs": [],
   "source": [
    "df_summary = pd.read_csv(\"data/data_summary.csv\")\n",
    "df_summary"
   ]
  },
  {
   "cell_type": "code",
   "execution_count": null,
   "id": "524baa61-ec67-4e75-b186-394c00a7b160",
   "metadata": {
    "tags": []
   },
   "outputs": [],
   "source": [
    "fig = px.histogram(df, x=\"iou\", height=300, width=500)\n",
    "fig.update_layout(font_size=15, xaxis_title=\"IoU\")\n",
    "fig.write_image(\"data/ious_histogram.png\")\n",
    "fig.show()"
   ]
  },
  {
   "cell_type": "code",
   "execution_count": null,
   "id": "65112f40-2983-4e7c-a69d-5362a37e02ea",
   "metadata": {
    "tags": []
   },
   "outputs": [],
   "source": [
    "features = [\"iou\", \"area\", \"perimeter\", \"circularity\", \"aspect_ratio\", \"rectangularity\", \"solidity\"]\n",
    "features_= [\"IoU\", \"Area\", \"Perimeter\", \"Circularity\", \"Aspect Ratio\", \"Rectangularity\", \"Solidity\"]\n",
    "\n",
    "all_ft_mi = []\n",
    "for x,y in zip(features, features_):\n",
    "    result = mutual_info_regression(df[features], df[x], discrete_features=[False for _ in features])\n",
    "    all_ft_mi.append(pd.DataFrame(result.T, columns=[y], index=features_))\n",
    "\n",
    "ft_mi = pd.concat(all_ft_mi, axis=1)\n",
    "ft_mi = ft_mi.applymap(lambda x: \"{:.2f}\".format(x))\n",
    "\n",
    "px.imshow(ft_mi, text_auto=True).update_layout(font_size=16).write_image(\"data/features_iou_heatmap.png\")"
   ]
  },
  {
   "cell_type": "markdown",
   "id": "a55d1eed-3784-4fbe-bff1-8ecbf08d1038",
   "metadata": {
    "tags": []
   },
   "source": [
    "## Measurement evaluation"
   ]
  },
  {
   "cell_type": "code",
   "execution_count": null,
   "id": "80e0df6b-b8b5-459a-89a3-d73f5ab1e2cc",
   "metadata": {
    "tags": []
   },
   "outputs": [],
   "source": [
    "algorithms = [\"pca\", \"lr\", \"centroid\", \"brute-force\"]\n",
    "\n",
    "errors = pd.DataFrame([], columns=algorithms)\n",
    "times  = pd.DataFrame([], columns=algorithms)\n",
    "\n",
    "for alg in algorithms:\n",
    "    errors[alg] = abs(df_[\"ground-truth_measure\"] - df_[f\"{alg}_measure\"]) / df_[\"ground-truth_measure\"]\n",
    "    times[alg] = df_[f\"{alg}_time\"]\n",
    "\n",
    "times *= 1000"
   ]
  },
  {
   "cell_type": "code",
   "execution_count": null,
   "id": "94e74fa0-49f1-4725-9126-bec1546d88c2",
   "metadata": {
    "tags": []
   },
   "outputs": [],
   "source": [
    "fig = px.box(errors,\n",
    "    color_discrete_sequence=[\"coral\"],\n",
    "    height=500, width=500,\n",
    "    labels= {\"value\": \"Error\"}\n",
    ").update_layout(font_size=15, xaxis_title=None)\n",
    "fig.show()\n",
    "fig.write_image(\"data/measuring_boxplot.png\")"
   ]
  },
  {
   "cell_type": "code",
   "execution_count": null,
   "id": "cbfb523e-72cc-4bd9-9f05-cf1a2fb9e42c",
   "metadata": {
    "tags": []
   },
   "outputs": [],
   "source": [
    "summary = pd.concat([errors.mean()*100, errors.std()*100, times.mean(), times.std()], axis=1)\n",
    "summary.columns = [\"average error\", \"error STD\", \"average time (ms)\", \"time STD (ms)\"]\n",
    "\n",
    "for k in summary.columns:\n",
    "    if \"error\" in k:\n",
    "        summary[k] = summary[k].apply(lambda x: \"{:.1f}%\".format(x)) \n",
    "    else: summary[k] = summary[k].apply(lambda x: \"{:.1f}\".format(x))\n",
    "\n",
    "summary"
   ]
  }
 ],
 "metadata": {
  "kernelspec": {
   "display_name": "cv",
   "language": "python",
   "name": "cv"
  },
  "language_info": {
   "codemirror_mode": {
    "name": "ipython",
    "version": 3
   },
   "file_extension": ".py",
   "mimetype": "text/x-python",
   "name": "python",
   "nbconvert_exporter": "python",
   "pygments_lexer": "ipython3",
   "version": "3.10.12"
  }
 },
 "nbformat": 4,
 "nbformat_minor": 5
}
