{
  "cells": [
    {
      "cell_type": "markdown",
      "source": [
        "## Clone dataset and files from GitHub"
      ],
      "metadata": {
        "id": "GJxGIREZ2_kL"
      },
      "id": "GJxGIREZ2_kL"
    },
    {
      "cell_type": "code",
      "execution_count": null,
      "id": "7290c786-ac01-49f8-994c-95d41cf4e770",
      "metadata": {
        "id": "7290c786-ac01-49f8-994c-95d41cf4e770"
      },
      "outputs": [],
      "source": [
        "!git clone \"https://github.com/la-zu-li/pca-measuring-c3s-clinker\""
      ]
    },
    {
      "cell_type": "code",
      "source": [
        "!mv pca-measuring-c3s-clinker/* ./\n",
        "!rmdir pca-measuring-c3s-clinker\n",
        "!rm -rf *.ipynb maskrcnn"
      ],
      "metadata": {
        "id": "HllIBytJdjKp"
      },
      "id": "HllIBytJdjKp",
      "execution_count": null,
      "outputs": []
    },
    {
      "cell_type": "markdown",
      "metadata": {
        "id": "icyaaulcSX9z"
      },
      "source": [
        "## Required packages and libs"
      ],
      "id": "icyaaulcSX9z"
    },
    {
      "cell_type": "code",
      "execution_count": null,
      "metadata": {
        "id": "wzkzPPahzv17"
      },
      "outputs": [],
      "source": [
        "!python -m pip install 'git+https://github.com/facebookresearch/detectron2.git'"
      ],
      "id": "wzkzPPahzv17"
    },
    {
      "cell_type": "code",
      "source": [
        "!pip instal -r requirements.txt\n",
        "!pip install roboflow"
      ],
      "metadata": {
        "id": "Cn4TCY_TfRv_"
      },
      "id": "Cn4TCY_TfRv_",
      "execution_count": null,
      "outputs": []
    },
    {
      "cell_type": "code",
      "execution_count": null,
      "metadata": {
        "id": "7doJnaKJ05AL"
      },
      "outputs": [],
      "source": [
        "# COMMON LIBRARIES\n",
        "import os\n",
        "import sys\n",
        "import json\n",
        "import itertools\n",
        "import cv2 as cv\n",
        "import numpy as np\n",
        "import pickle as pkl\n",
        "from time import time\n",
        "\n",
        "from datetime import datetime\n",
        "from google.colab.patches import cv2_imshow\n",
        "\n",
        "# DATA SET PREPARATION AND LOADING\n",
        "from detectron2.data.datasets import register_coco_instances\n",
        "from detectron2.data import DatasetCatalog, MetadataCatalog\n",
        "\n",
        "# VISUALIZATION\n",
        "from detectron2.utils.visualizer import Visualizer\n",
        "from detectron2.utils.visualizer import ColorMode\n",
        "\n",
        "# NETWORK CONFIGURATION\n",
        "from detectron2 import model_zoo\n",
        "from detectron2.config import get_cfg\n",
        "\n",
        "# EVALUATION\n",
        "from detectron2.engine import DefaultPredictor\n",
        "\n",
        "# TRAINING\n",
        "from detectron2.engine import DefaultTrainer"
      ],
      "id": "7doJnaKJ05AL"
    },
    {
      "cell_type": "markdown",
      "metadata": {
        "id": "-EG0h6ALRs0Z"
      },
      "source": [
        "## Dataset"
      ],
      "id": "-EG0h6ALRs0Z"
    },
    {
      "cell_type": "markdown",
      "metadata": {
        "id": "BoOJZe_2SyHF"
      },
      "source": [
        "### Register"
      ],
      "id": "BoOJZe_2SyHF"
    },
    {
      "cell_type": "code",
      "execution_count": null,
      "metadata": {
        "id": "fZAJsXuA9Wjl"
      },
      "outputs": [],
      "source": [
        "DATA_SET_NAME = \"c3s-clinker-dataset\"\n",
        "DATA_SET_LOCATION = \"./c3s-clinker-dataset\"\n",
        "ANN_FILE_NAME = \"_annotations.coco.json\""
      ],
      "id": "fZAJsXuA9Wjl"
    },
    {
      "cell_type": "code",
      "execution_count": null,
      "metadata": {
        "id": "CUj2-ch_9j57"
      },
      "outputs": [],
      "source": [
        "DS_NAMES = {}\n",
        "DS_PATHS = {}\n",
        "\n",
        "for ds_type in [\"train\", \"test\", \"valid\"]:\n",
        "\n",
        "    ds_name = DS_NAMES[ds_type] = f\"{DATA_SET_NAME}-{ds_type}\"\n",
        "    ds_path = DS_PATHS[ds_type] = os.path.join(DATA_SET_LOCATION, ds_type)\n",
        "\n",
        "    register_coco_instances(\n",
        "        name=ds_name,\n",
        "        image_root=ds_path,\n",
        "        json_file=os.path.join(ds_path, ANN_FILE_NAME),\n",
        "        metadata={}\n",
        "    )"
      ],
      "id": "CUj2-ch_9j57"
    },
    {
      "cell_type": "markdown",
      "metadata": {
        "id": "rFdcnxiPRnMS"
      },
      "source": [
        "### Check"
      ],
      "id": "rFdcnxiPRnMS"
    },
    {
      "cell_type": "code",
      "execution_count": null,
      "metadata": {
        "id": "58RWYOXw9sU3"
      },
      "outputs": [],
      "source": [
        "[\n",
        "    data_set\n",
        "    for data_set\n",
        "    in MetadataCatalog.list()\n",
        "    if data_set.startswith(DATA_SET_NAME)\n",
        "]"
      ],
      "id": "58RWYOXw9sU3"
    },
    {
      "cell_type": "code",
      "execution_count": null,
      "metadata": {
        "id": "HsK2qJ9Y9xHb"
      },
      "outputs": [],
      "source": [
        "metadata = MetadataCatalog.get(DS_NAMES[\"train\"])\n",
        "dataset_train = DatasetCatalog.get(DS_NAMES[\"train\"])\n",
        "\n",
        "dataset_entry = dataset_train[0]\n",
        "image = cv.imread(dataset_entry[\"file_name\"])\n",
        "\n",
        "visualizer = Visualizer(\n",
        "    image[:, :, ::-1],\n",
        "    metadata=metadata,\n",
        "    scale=0.8,\n",
        "    instance_mode=ColorMode.IMAGE_BW\n",
        ")\n",
        "\n",
        "out = visualizer.draw_dataset_dict(dataset_entry)\n",
        "cv2_imshow(out.get_image()[:, :, ::-1])"
      ],
      "id": "HsK2qJ9Y9xHb"
    },
    {
      "cell_type": "markdown",
      "metadata": {
        "id": "IIHSMMXRTGc-"
      },
      "source": [
        "## Train"
      ],
      "id": "IIHSMMXRTGc-"
    },
    {
      "cell_type": "markdown",
      "metadata": {
        "id": "uJvRuqovTNf9"
      },
      "source": [
        "### Configure"
      ],
      "id": "uJvRuqovTNf9"
    },
    {
      "cell_type": "code",
      "execution_count": null,
      "metadata": {
        "id": "vpG0oJr2-T8E"
      },
      "outputs": [],
      "source": [
        "# HYPERPARAMETERS\n",
        "ARCHITECTURE = \"mask_rcnn_R_101_FPN_3x\"\n",
        "CONFIG_FILE_PATH = f\"COCO-InstanceSegmentation/{ARCHITECTURE}.yaml\"\n",
        "MAX_ITER = 4000\n",
        "EVAL_PERIOD = 200\n",
        "BASE_LR = 0.001\n",
        "BATCH_SIZE = 2\n",
        "\n",
        "# Number of classes should consider background\n",
        "# Ex: 3 classes dataset + background --> N_CLASSES = 4\n",
        "CLASSES = MetadataCatalog.get(DS_NAMES[\"train\"]).thing_classes\n",
        "N_CLASSES = len(CLASSES)\n",
        "\n",
        "# OUTPUT DIR\n",
        "OUTPUT_DIR_PATH = os.path.join(\n",
        "    DATA_SET_NAME,\n",
        "    ARCHITECTURE\n",
        ")\n",
        "os.makedirs(OUTPUT_DIR_PATH, exist_ok=True)"
      ],
      "id": "vpG0oJr2-T8E"
    },
    {
      "cell_type": "code",
      "execution_count": null,
      "metadata": {
        "id": "-X6z9cRD-Xiq"
      },
      "outputs": [],
      "source": [
        "cfg = get_cfg()\n",
        "cfg.merge_from_file(model_zoo.get_config_file(CONFIG_FILE_PATH))\n",
        "cfg.MODEL.WEIGHTS = model_zoo.get_checkpoint_url(CONFIG_FILE_PATH)\n",
        "cfg.DATASETS.TRAIN = (DS_NAMES[\"train\"],)\n",
        "cfg.DATASETS.TEST = (DS_NAMES[\"test\"],)\n",
        "cfg.MODEL.ROI_HEADS.BATCH_SIZE_PER_IMAGE = 64\n",
        "cfg.TEST.EVAL_PERIOD = EVAL_PERIOD\n",
        "cfg.DATALOADER.NUM_WORKERS = 2\n",
        "cfg.SOLVER.IMS_PER_BATCH = BATCH_SIZE\n",
        "cfg.INPUT.MASK_FORMAT='bitmask'\n",
        "cfg.SOLVER.BASE_LR = BASE_LR\n",
        "cfg.SOLVER.MAX_ITER = MAX_ITER\n",
        "cfg.MODEL.ROI_HEADS.NUM_CLASSES = N_CLASSES\n",
        "cfg.OUTPUT_DIR = OUTPUT_DIR_PATH"
      ],
      "id": "-X6z9cRD-Xiq"
    },
    {
      "cell_type": "markdown",
      "metadata": {
        "id": "Aj4a5pSFTVtd"
      },
      "source": [
        "### Start training"
      ],
      "id": "Aj4a5pSFTVtd"
    },
    {
      "cell_type": "code",
      "execution_count": null,
      "metadata": {
        "id": "NPXkmFkkP08h"
      },
      "outputs": [],
      "source": [
        "start = time()\n",
        "\n",
        "trainer = DefaultTrainer(cfg)\n",
        "trainer.resume_or_load(resume=False)\n",
        "trainer.train()\n",
        "\n",
        "end = time()\n",
        "print(f\"Training took: {end-start} seconds\")"
      ],
      "id": "NPXkmFkkP08h"
    },
    {
      "cell_type": "markdown",
      "metadata": {
        "id": "M0XorXZETbuc"
      },
      "source": [
        "### Training metrics"
      ],
      "id": "M0XorXZETbuc"
    },
    {
      "cell_type": "code",
      "execution_count": null,
      "metadata": {
        "collapsed": true,
        "id": "WtOU-6GSEQDI"
      },
      "outputs": [],
      "source": [
        "# Look at training curves in tensorboard:\n",
        "%load_ext tensorboard\n",
        "%tensorboard --logdir $OUTPUT_DIR_PATH"
      ],
      "id": "WtOU-6GSEQDI"
    },
    {
      "cell_type": "markdown",
      "metadata": {
        "id": "68fC0nAOx0EG"
      },
      "source": [
        "### Create predictor with trained weights"
      ],
      "id": "68fC0nAOx0EG"
    },
    {
      "cell_type": "code",
      "execution_count": null,
      "metadata": {
        "id": "ilKXfofjEWF1"
      },
      "outputs": [],
      "source": [
        "cfg.MODEL.WEIGHTS = os.path.join(OUTPUT_DIR_PATH, \"model_final.pth\")\n",
        "cfg.MODEL.ROI_HEADS.SCORE_THRESH_TEST = 0.5 # confidence threshold\n",
        "predictor = DefaultPredictor(cfg)"
      ],
      "id": "ilKXfofjEWF1"
    },
    {
      "cell_type": "markdown",
      "metadata": {
        "id": "ydtagoxVxogt"
      },
      "source": [
        "## Model Evaluation with COCO metrics"
      ],
      "id": "ydtagoxVxogt"
    },
    {
      "cell_type": "code",
      "execution_count": null,
      "metadata": {
        "id": "i-c0crWQJ0Ud"
      },
      "outputs": [],
      "source": [
        "from detectron2.evaluation import COCOEvaluator, inference_on_dataset\n",
        "from detectron2.data import build_detection_test_loader\n",
        "\n",
        "evaluator = COCOEvaluator(DS_NAMES[\"valid\"], output_dir=OUTPUT_DIR_PATH)\n",
        "val_loader = build_detection_test_loader(cfg, DS_NAMES[\"valid\"])\n",
        "predictions = inference_on_dataset(predictor.model, val_loader, evaluator)"
      ],
      "id": "i-c0crWQJ0Ud"
    },
    {
      "cell_type": "markdown",
      "metadata": {
        "id": "H3F1zZxCxc4D"
      },
      "source": [
        "## Model Inference"
      ],
      "id": "H3F1zZxCxc4D"
    },
    {
      "cell_type": "code",
      "execution_count": null,
      "metadata": {
        "id": "Xj7tafEwEZEq"
      },
      "outputs": [],
      "source": [
        "# retrieve inference time\n",
        "dataset_test = DatasetCatalog.get  (DS_NAMES[\"test\"])\n",
        "metadata_test = MetadataCatalog.get(DS_NAMES[\"test\"])\n",
        "\n",
        "img_filenames = [d[\"file_name\"] for d in dataset_test]\n",
        "img_ids = [d[\"image_id\"] for d in dataset_test]\n",
        "images = [cv.imread(f) for f in img_filenames]\n",
        "\n",
        "start = time()\n",
        "instances = [predictor(img)[\"instances\"] for img in images]\n",
        "end = time()\n",
        "\n",
        "print(f\"Inference took: {end-start} seconds\")"
      ],
      "id": "Xj7tafEwEZEq"
    },
    {
      "cell_type": "markdown",
      "source": [
        "Visualize"
      ],
      "metadata": {
        "id": "-RMpT7B3nK3m"
      },
      "id": "-RMpT7B3nK3m"
    },
    {
      "cell_type": "code",
      "source": [
        "for img, ins in zip(images, instances):\n",
        "    kwargs = {\n",
        "        \"img_rgb\": img[:,:,::-1],\n",
        "        \"metadata\": metadata,\n",
        "        \"scale\": 0.8\n",
        "    }\n",
        "    visualizer = Visualizer(**kwargs)\n",
        "    pred = visualizer.draw_instance_predictions(ins.to(\"cpu\"))\n",
        "    pred_img = pred.get_image()[:, :, ::-1]\n",
        "    cv2_imshow(pred_img)"
      ],
      "metadata": {
        "id": "V12foZD0nJ7j"
      },
      "id": "V12foZD0nJ7j",
      "execution_count": null,
      "outputs": []
    },
    {
      "cell_type": "code",
      "source": [
        "dt_masks = {}\n",
        "for img_id, ins in zip(img_ids, instances):\n",
        "    dt_masks[img_id] = ins.pred_masks.to(\"cpu\").numpy()"
      ],
      "metadata": {
        "id": "NbnRG7ZVkM1c"
      },
      "id": "NbnRG7ZVkM1c",
      "execution_count": null,
      "outputs": []
    },
    {
      "cell_type": "markdown",
      "source": [
        "## Crystal Measurement"
      ],
      "metadata": {
        "id": "-2CdoJ7TnfCc"
      },
      "id": "-2CdoJ7TnfCc"
    },
    {
      "cell_type": "code",
      "source": [
        "from lib.measure_methods import longest_diagonal_pca\n",
        "\n",
        "dt_measures = {}\n",
        "for img_id, dt_mask in dt_masks.items():\n",
        "    measures = []\n",
        "    for dt_mask_ins in dt_mask:\n",
        "        contours,_ = cv.findContours(dt_mask_ins.astype(np.uint8), cv.RETR_EXTERNAL, cv.CHAIN_APPROX_NONE)\n",
        "        contour = max(contours, key=lambda x: x.shape[0])\n",
        "        points = contour.squeeze()\n",
        "\n",
        "        if len(points.shape) != 2: continue\n",
        "        measurement = longest_diagonal_pca(points)\n",
        "        measures.append(measurement)\n",
        "    dt_measures[img_id] = measures"
      ],
      "metadata": {
        "id": "JPq23RoinQSq"
      },
      "id": "JPq23RoinQSq",
      "execution_count": null,
      "outputs": []
    },
    {
      "cell_type": "markdown",
      "source": [
        "Visualize measurement lines"
      ],
      "metadata": {
        "id": "Mf-87XdCuWBs"
      },
      "id": "Mf-87XdCuWBs"
    },
    {
      "cell_type": "code",
      "source": [
        "for img_id, img, ins in zip(img_ids, images, instances):\n",
        "    detected_masks = dt_masks[img_id]\n",
        "    measures = dt_measures[img_id]\n",
        "\n",
        "    # draw measurement lines\n",
        "    for start, end, length in measures:\n",
        "        img = cv.line(img, start, end, color=(0,255,0), thickness=2)\n",
        "\n",
        "    # draw prediction\n",
        "    kwargs = {\n",
        "        \"img_rgb\": img[:,:,::-1],\n",
        "        \"metadata\": metadata,\n",
        "        \"scale\": 0.8\n",
        "    }\n",
        "    visualizer = Visualizer(**kwargs)\n",
        "    pred = visualizer.draw_instance_predictions(ins.to(\"cpu\"))\n",
        "    pred_img = pred.get_image()[:,:,::-1]\n",
        "    pred_img = np.array(pred_img)\n",
        "\n",
        "    cv2_imshow(pred_img)"
      ],
      "metadata": {
        "id": "BqNw_ah5uzOG"
      },
      "id": "BqNw_ah5uzOG",
      "execution_count": null,
      "outputs": []
    },
    {
      "cell_type": "markdown",
      "source": [
        "Export detection data as PKL"
      ],
      "metadata": {
        "id": "EC1SmqIF4g4I"
      },
      "id": "EC1SmqIF4g4I"
    },
    {
      "cell_type": "code",
      "source": [
        "with open(\"dt_masks.pkl\", \"wb\") as f:\n",
        "    pkl.dump(dt_masks, f, protocol=pkl.HIGHEST_PROTOCOL)"
      ],
      "metadata": {
        "id": "JL2js_5E4SoW"
      },
      "id": "JL2js_5E4SoW",
      "execution_count": null,
      "outputs": []
    },
    {
      "cell_type": "markdown",
      "source": [
        "## Evaluation of measurement methods"
      ],
      "metadata": {
        "id": "37iHXFEm3bhj"
      },
      "id": "37iHXFEm3bhj"
    },
    {
      "cell_type": "code",
      "source": [
        "import pandas as pd\n",
        "import plotly.express as px\n",
        "from sklearn.feature_selection import mutual_info_regression"
      ],
      "metadata": {
        "id": "5LBbVXO_6rZl"
      },
      "id": "5LBbVXO_6rZl",
      "execution_count": null,
      "outputs": []
    },
    {
      "cell_type": "markdown",
      "source": [
        "### Running scripts for generating data in dataframe format"
      ],
      "metadata": {
        "id": "hJFXKrd05je4"
      },
      "id": "hJFXKrd05je4"
    },
    {
      "cell_type": "code",
      "source": [
        "os.makedirs(\"data\", exist_ok=True)\n",
        "%run scripts/all_measures_to_json.py\n",
        "%run scripts/merge_anns_and_measures.py\n",
        "%run scripts/evaluate_network_performance.py\n",
        "%run scripts/evaluate_measuring_performance.py\n",
        "%run scripts/compute_geometrical_features.py"
      ],
      "metadata": {
        "id": "spVUJmxP4Fh4"
      },
      "id": "spVUJmxP4Fh4",
      "execution_count": null,
      "outputs": []
    },
    {
      "cell_type": "code",
      "source": [
        "df = pd.read_csv(\"data/geometric_features.csv\")\n",
        "df_ = df[df[\"detected_mask_id\"] >= 0]"
      ],
      "metadata": {
        "id": "GTTAZaxX6hwE"
      },
      "id": "GTTAZaxX6hwE",
      "execution_count": null,
      "outputs": []
    },
    {
      "cell_type": "markdown",
      "source": [
        "### Model evaluation on IoU metrics and custom graphs"
      ],
      "metadata": {
        "id": "InyhL0fl8ofC"
      },
      "id": "InyhL0fl8ofC"
    },
    {
      "cell_type": "markdown",
      "source": [
        "Distribution of max IoU of ground-truth objects"
      ],
      "metadata": {
        "id": "CTLCHoBk8Tty"
      },
      "id": "CTLCHoBk8Tty"
    },
    {
      "cell_type": "code",
      "source": [
        "fig = px.histogram(df, x=\"iou\")\n",
        "fig.update_layout(xaxis_title=\"IoU\")\n",
        "fig.show()"
      ],
      "metadata": {
        "id": "csAzbtPT6ZOG"
      },
      "id": "csAzbtPT6ZOG",
      "execution_count": null,
      "outputs": []
    },
    {
      "cell_type": "markdown",
      "source": [
        "Total number of false positives and negatives for IoU threshold of 0.5"
      ],
      "metadata": {
        "id": "36QAsQcH7_AZ"
      },
      "id": "36QAsQcH7_AZ"
    },
    {
      "cell_type": "code",
      "source": [
        "df_summary = pd.read_csv(\"data/data_summary.csv\")\n",
        "df_summary"
      ],
      "metadata": {
        "id": "GyqqffNN5eAz"
      },
      "id": "GyqqffNN5eAz",
      "execution_count": null,
      "outputs": []
    },
    {
      "cell_type": "markdown",
      "source": [
        "Mutual information between IoU and each shape feature"
      ],
      "metadata": {
        "id": "Mt-kauyl7g2e"
      },
      "id": "Mt-kauyl7g2e"
    },
    {
      "cell_type": "code",
      "source": [
        "features = [\"iou\", \"area\", \"perimeter\", \"circularity\", \"aspect_ratio\", \"rectangularity\", \"solidity\"]\n",
        "ft_names= [\"IoU\", \"Area\", \"Perimeter\", \"Circularity\", \"Aspect Ratio\", \"Rectangularity\", \"Solidity\"]\n",
        "\n",
        "all_ft_mi = []\n",
        "for x,y in zip(features, ft_names):\n",
        "    result = mutual_info_regression(df[features], df[x], discrete_features=[False for _ in features])\n",
        "    all_ft_mi.append(pd.DataFrame(result.T, columns=[y], index=ft_names))\n",
        "\n",
        "ft_mi = pd.concat(all_ft_mi, axis=1)\n",
        "ft_mi = ft_mi.applymap(lambda x: \"{:.2f}\".format(x))\n",
        "\n",
        "px.imshow(ft_mi, text_auto=True).show()"
      ],
      "metadata": {
        "id": "pcTTxuN86TBJ"
      },
      "id": "pcTTxuN86TBJ",
      "execution_count": null,
      "outputs": []
    },
    {
      "cell_type": "markdown",
      "source": [
        "### Measurement methods evaluation"
      ],
      "metadata": {
        "id": "Z9zTIg32833L"
      },
      "id": "Z9zTIg32833L"
    },
    {
      "cell_type": "markdown",
      "source": [
        "Compute error based on manual measures"
      ],
      "metadata": {
        "id": "Mrq6OUJm895U"
      },
      "id": "Mrq6OUJm895U"
    },
    {
      "cell_type": "code",
      "source": [
        "algorithms = [\"pca\", \"lr\", \"centroid\", \"brute-force\"]\n",
        "\n",
        "errors = pd.DataFrame([], columns=algorithms)\n",
        "times  = pd.DataFrame([], columns=algorithms)\n",
        "\n",
        "for alg in algorithms:\n",
        "    errors[alg] = abs(df_[\"ground-truth_measure\"] - df_[f\"{alg}_measure\"]) / df_[\"ground-truth_measure\"]\n",
        "    times[alg] = df_[f\"{alg}_time\"]\n",
        "\n",
        "times *= 1000"
      ],
      "metadata": {
        "id": "aH3JZx4p90tw"
      },
      "id": "aH3JZx4p90tw",
      "execution_count": null,
      "outputs": []
    },
    {
      "cell_type": "markdown",
      "source": [
        "Box-plot with error for each method"
      ],
      "metadata": {
        "id": "mFWtLe_K91qM"
      },
      "id": "mFWtLe_K91qM"
    },
    {
      "cell_type": "code",
      "source": [
        "fig = px.box(errors,\n",
        "    color_discrete_sequence=[\"coral\"],\n",
        "    labels= {\"value\": \"Error\"}\n",
        ").update_layout(xaxis_title=None)\n",
        "fig.show()"
      ],
      "metadata": {
        "id": "eC9lqZCP92Pi"
      },
      "id": "eC9lqZCP92Pi",
      "execution_count": null,
      "outputs": []
    },
    {
      "cell_type": "markdown",
      "source": [
        "Data summary for each method time and error"
      ],
      "metadata": {
        "id": "Zb_zacYb92zZ"
      },
      "id": "Zb_zacYb92zZ"
    },
    {
      "cell_type": "code",
      "source": [
        "summary = pd.concat([errors.mean()*100, errors.std()*100, times.mean(), times.std()], axis=1)\n",
        "summary.columns = [\"average error\", \"error STD\", \"average time (ms)\", \"time STD (ms)\"]\n",
        "\n",
        "for k in summary.columns:\n",
        "    if \"error\" in k:\n",
        "        summary[k] = summary[k].apply(lambda x: \"{:.1f}%\".format(x))\n",
        "    else: summary[k] = summary[k].apply(lambda x: \"{:.1f}\".format(x))\n",
        "\n",
        "summary"
      ],
      "metadata": {
        "id": "xSQq5ZHA93Zm"
      },
      "id": "xSQq5ZHA93Zm",
      "execution_count": null,
      "outputs": []
    }
  ],
  "metadata": {
    "kernelspec": {
      "display_name": "",
      "name": ""
    },
    "language_info": {
      "name": ""
    },
    "colab": {
      "provenance": [],
      "gpuType": "T4"
    },
    "accelerator": "GPU"
  },
  "nbformat": 4,
  "nbformat_minor": 5
}